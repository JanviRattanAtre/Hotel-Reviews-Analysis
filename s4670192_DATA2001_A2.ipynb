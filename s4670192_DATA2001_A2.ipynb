{
 "cells": [
  {
   "cell_type": "markdown",
   "id": "1d723e85",
   "metadata": {},
   "source": [
    "# DATA2001 Assignment 2 (Weight: 25%)\n"
   ]
  },
  {
   "cell_type": "markdown",
   "id": "d1aaa603",
   "metadata": {},
   "source": [
    "The aim of this assignment is to gain practical experience in analysing unstructured data. \n",
    "You should only submit your completed Jupyter notebook in .ipynb format via Blackboard, including written answers in markdown and results from executed code cells.\n",
    "\n",
    "\n",
    "The assignment comprises 5 main tasks: Data Exploration, Data Preprocessing, Model Training, Model Evaluation, and Model Analysis. You will analyze and compare two different representations, Bag of Words (BOW) and Term Frequency-Inverse Document Frequency (TF-IDF). Additionally, you will address and compare two tasks: sentiment analysis and rating prediction.\n",
    "\n",
    "\n",
    "The dataset you will work with in this assignment comprises text reviews about various hotels, extracted from Tripadvisor, along with their corresponding ratings.\n"
   ]
  },
  {
   "cell_type": "markdown",
   "id": "d693423b",
   "metadata": {},
   "source": [
    "## Task 1: Data Exploration\n"
   ]
  },
  {
   "cell_type": "markdown",
   "id": "562d2289",
   "metadata": {},
   "source": [
    "\n",
    "\n",
    "\n",
    "1. **Load the dataset from the file \"hotel_reviews.csv\". How many records does the dataset contain? How many distinct classes are there in the dataset?**\n"
   ]
  },
  {
   "cell_type": "code",
   "execution_count": 1,
   "id": "797f6daa",
   "metadata": {},
   "outputs": [],
   "source": [
    "import pandas as pd\n",
    "import warnings\n",
    "import numpy as np\n",
    "warnings.filterwarnings('ignore')"
   ]
  },
  {
   "cell_type": "code",
   "execution_count": 2,
   "id": "254d3813",
   "metadata": {},
   "outputs": [
    {
     "name": "stdout",
     "output_type": "stream",
     "text": [
      "Defaulting to user installation because normal site-packages is not writeable\n",
      "Requirement already satisfied: nltk in /home/s4670192/.local/lib/python3.11/site-packages (3.8.1)\n",
      "Requirement already satisfied: click in /usr/local/lib/python3.11/dist-packages (from nltk) (8.1.6)\n",
      "Requirement already satisfied: joblib in /usr/local/lib/python3.11/dist-packages (from nltk) (1.3.1)\n",
      "Requirement already satisfied: regex>=2021.8.3 in /usr/local/lib/python3.11/dist-packages (from nltk) (2023.6.3)\n",
      "Requirement already satisfied: tqdm in /home/s4670192/.local/lib/python3.11/site-packages (from nltk) (4.66.1)\n",
      "\u001b[33mDEPRECATION: distro-info 0.23ubuntu1 has a non-standard version number. pip 23.3 will enforce this behaviour change. A possible replacement is to upgrade to a newer version of distro-info or contact the author to suggest that they release a version with a conforming version number. Discussion can be found at https://github.com/pypa/pip/issues/12063\u001b[0m\u001b[33m\n",
      "\u001b[0m"
     ]
    },
    {
     "name": "stderr",
     "output_type": "stream",
     "text": [
      "[nltk_data] Downloading package stopwords to\n",
      "[nltk_data]     /home/s4670192/nltk_data...\n",
      "[nltk_data]   Package stopwords is already up-to-date!\n",
      "[nltk_data] Downloading package omw-1.4 to /home/s4670192/nltk_data...\n",
      "[nltk_data]   Package omw-1.4 is already up-to-date!\n",
      "[nltk_data] Downloading package wordnet to /home/s4670192/nltk_data...\n",
      "[nltk_data]   Package wordnet is already up-to-date!\n"
     ]
    },
    {
     "data": {
      "text/plain": [
       "True"
      ]
     },
     "execution_count": 2,
     "metadata": {},
     "output_type": "execute_result"
    }
   ],
   "source": [
    "!pip install nltk\n",
    "\n",
    "import nltk\n",
    "from nltk.corpus import stopwords\n",
    "\n",
    "\n",
    "nltk.download('stopwords')\n",
    "nltk.download('omw-1.4')\n",
    "nltk.download('wordnet')\n"
   ]
  },
  {
   "cell_type": "markdown",
   "id": "6cf91924",
   "metadata": {},
   "source": [
    "***NOTE TO EXAMINER: for the code above , there is a weird error with pip , if encountered , please \"restart and run all\"***"
   ]
  },
  {
   "cell_type": "code",
   "execution_count": 3,
   "id": "3c359a67",
   "metadata": {
    "scrolled": true
   },
   "outputs": [
    {
     "data": {
      "text/html": [
       "<div>\n",
       "<style scoped>\n",
       "    .dataframe tbody tr th:only-of-type {\n",
       "        vertical-align: middle;\n",
       "    }\n",
       "\n",
       "    .dataframe tbody tr th {\n",
       "        vertical-align: top;\n",
       "    }\n",
       "\n",
       "    .dataframe thead th {\n",
       "        text-align: right;\n",
       "    }\n",
       "</style>\n",
       "<table border=\"1\" class=\"dataframe\">\n",
       "  <thead>\n",
       "    <tr style=\"text-align: right;\">\n",
       "      <th></th>\n",
       "      <th>Review</th>\n",
       "      <th>Rating</th>\n",
       "    </tr>\n",
       "  </thead>\n",
       "  <tbody>\n",
       "    <tr>\n",
       "      <th>0</th>\n",
       "      <td>nice hotel expensive parking got good deal sta...</td>\n",
       "      <td>4</td>\n",
       "    </tr>\n",
       "    <tr>\n",
       "      <th>1</th>\n",
       "      <td>ok nothing special charge diamond member hilto...</td>\n",
       "      <td>2</td>\n",
       "    </tr>\n",
       "    <tr>\n",
       "      <th>2</th>\n",
       "      <td>nice rooms not 4* experience hotel monaco seat...</td>\n",
       "      <td>3</td>\n",
       "    </tr>\n",
       "    <tr>\n",
       "      <th>3</th>\n",
       "      <td>unique, great stay, wonderful time hotel monac...</td>\n",
       "      <td>5</td>\n",
       "    </tr>\n",
       "    <tr>\n",
       "      <th>4</th>\n",
       "      <td>great stay great stay, went seahawk game aweso...</td>\n",
       "      <td>5</td>\n",
       "    </tr>\n",
       "    <tr>\n",
       "      <th>5</th>\n",
       "      <td>love monaco staff husband stayed hotel crazy w...</td>\n",
       "      <td>5</td>\n",
       "    </tr>\n",
       "    <tr>\n",
       "      <th>6</th>\n",
       "      <td>cozy stay rainy city, husband spent 7 nights m...</td>\n",
       "      <td>5</td>\n",
       "    </tr>\n",
       "    <tr>\n",
       "      <th>7</th>\n",
       "      <td>excellent staff, housekeeping quality hotel ch...</td>\n",
       "      <td>4</td>\n",
       "    </tr>\n",
       "    <tr>\n",
       "      <th>8</th>\n",
       "      <td>hotel stayed hotel monaco cruise, rooms genero...</td>\n",
       "      <td>5</td>\n",
       "    </tr>\n",
       "    <tr>\n",
       "      <th>9</th>\n",
       "      <td>excellent stayed hotel monaco past w/e delight...</td>\n",
       "      <td>5</td>\n",
       "    </tr>\n",
       "    <tr>\n",
       "      <th>10</th>\n",
       "      <td>poor value stayed monaco seattle july, nice ho...</td>\n",
       "      <td>2</td>\n",
       "    </tr>\n",
       "    <tr>\n",
       "      <th>11</th>\n",
       "      <td>nice value seattle stayed 4 nights late 2007. ...</td>\n",
       "      <td>4</td>\n",
       "    </tr>\n",
       "    <tr>\n",
       "      <th>12</th>\n",
       "      <td>nice hotel good location hotel kimpton design ...</td>\n",
       "      <td>4</td>\n",
       "    </tr>\n",
       "    <tr>\n",
       "      <th>13</th>\n",
       "      <td>nice hotel not nice staff hotel lovely staff q...</td>\n",
       "      <td>3</td>\n",
       "    </tr>\n",
       "    <tr>\n",
       "      <th>14</th>\n",
       "      <td>great hotel night quick business trip, loved l...</td>\n",
       "      <td>4</td>\n",
       "    </tr>\n",
       "    <tr>\n",
       "      <th>15</th>\n",
       "      <td>horrible customer service hotel stay february ...</td>\n",
       "      <td>1</td>\n",
       "    </tr>\n",
       "    <tr>\n",
       "      <th>16</th>\n",
       "      <td>disappointed say anticipating stay hotel monac...</td>\n",
       "      <td>2</td>\n",
       "    </tr>\n",
       "    <tr>\n",
       "      <th>17</th>\n",
       "      <td>fantastic stay monaco seattle hotel monaco hol...</td>\n",
       "      <td>5</td>\n",
       "    </tr>\n",
       "    <tr>\n",
       "      <th>18</th>\n",
       "      <td>good choice hotel recommended sister, great lo...</td>\n",
       "      <td>5</td>\n",
       "    </tr>\n",
       "    <tr>\n",
       "      <th>19</th>\n",
       "      <td>hmmmmm say really high hopes hotel monaco chos...</td>\n",
       "      <td>3</td>\n",
       "    </tr>\n",
       "  </tbody>\n",
       "</table>\n",
       "</div>"
      ],
      "text/plain": [
       "                                               Review  Rating\n",
       "0   nice hotel expensive parking got good deal sta...       4\n",
       "1   ok nothing special charge diamond member hilto...       2\n",
       "2   nice rooms not 4* experience hotel monaco seat...       3\n",
       "3   unique, great stay, wonderful time hotel monac...       5\n",
       "4   great stay great stay, went seahawk game aweso...       5\n",
       "5   love monaco staff husband stayed hotel crazy w...       5\n",
       "6   cozy stay rainy city, husband spent 7 nights m...       5\n",
       "7   excellent staff, housekeeping quality hotel ch...       4\n",
       "8   hotel stayed hotel monaco cruise, rooms genero...       5\n",
       "9   excellent stayed hotel monaco past w/e delight...       5\n",
       "10  poor value stayed monaco seattle july, nice ho...       2\n",
       "11  nice value seattle stayed 4 nights late 2007. ...       4\n",
       "12  nice hotel good location hotel kimpton design ...       4\n",
       "13  nice hotel not nice staff hotel lovely staff q...       3\n",
       "14  great hotel night quick business trip, loved l...       4\n",
       "15  horrible customer service hotel stay february ...       1\n",
       "16  disappointed say anticipating stay hotel monac...       2\n",
       "17  fantastic stay monaco seattle hotel monaco hol...       5\n",
       "18  good choice hotel recommended sister, great lo...       5\n",
       "19  hmmmmm say really high hopes hotel monaco chos...       3"
      ]
     },
     "execution_count": 3,
     "metadata": {},
     "output_type": "execute_result"
    }
   ],
   "source": [
    "# Provide your answers here\n",
    "\n",
    "# load the data \n",
    "hotel_data = pd.read_csv(\"hotel_reviews.csv\")\n",
    "\n",
    "#view the first few rows of the data\n",
    "hotel_data.head(20)\n"
   ]
  },
  {
   "cell_type": "markdown",
   "id": "b5e5c52b",
   "metadata": {},
   "source": [
    "### NUMBER OF RECORDS AND DISTINCT CLASSES IN THE DATASET"
   ]
  },
  {
   "cell_type": "code",
   "execution_count": 4,
   "id": "e40f4f72",
   "metadata": {},
   "outputs": [
    {
     "name": "stdout",
     "output_type": "stream",
     "text": [
      "The dataset contains 20491 records.\n",
      "The dataset contains 20496 distinct classes.\n"
     ]
    }
   ],
   "source": [
    "# Calculate the number of records\n",
    "num_records = len(hotel_data)\n",
    "print(f'The dataset contains {num_records} records.')\n",
    "\n",
    "# Calculate the number of distinct classes in the entire dataset\n",
    "num_classes = hotel_data.nunique().sum()\n",
    "print(f'The dataset contains {num_classes} distinct classes.')"
   ]
  },
  {
   "cell_type": "markdown",
   "id": "40ecae99",
   "metadata": {},
   "source": [
    "2. **Determine the top 10 most frequently used words in the dataset. To support your answer, create a bar plot where the x-axis represents words, and the y-axis represents the frequency of each word appearing in the entire dataset.**\n"
   ]
  },
  {
   "cell_type": "code",
   "execution_count": 5,
   "id": "1ebd7e32",
   "metadata": {},
   "outputs": [],
   "source": [
    "from collections import Counter\n",
    "import matplotlib.pyplot as plt"
   ]
  },
  {
   "cell_type": "code",
   "execution_count": 6,
   "id": "d8dce0fa",
   "metadata": {},
   "outputs": [
    {
     "data": {
      "image/png": "[encoded data removed]",
      "text/plain": [
       "<Figure size 640x480 with 1 Axes>"
      ]
     },
     "metadata": {},
     "output_type": "display_data"
    }
   ],
   "source": [
    "# Provide your answers here\n",
    "\n",
    "# Get the word frequency\n",
    "top_10_words = Counter(\" \".join(hotel_data[\"Review\"]).split()).most_common(10)\n",
    "\n",
    "# Create a bar plot\n",
    "plt.bar([word[0] for word in top_10_words], [count[1] for count in top_10_words])\n",
    "plt.xlabel('Words')\n",
    "plt.ylabel('Frequency')\n",
    "plt.title('Top 10 Most Frequent Words')\n",
    "plt.show()"
   ]
  },
  {
   "cell_type": "markdown",
   "id": "b5d68460",
   "metadata": {},
   "source": [
    "\n",
    "\n",
    "3. **Among the top 10 most frequently used words, identify if there are any stop words included. If we exclude the stop words, would the top 10 most frequent words change? Create another bar plot similar to Question 2, but this time with the stop words removed to illustrate the updated top 10 most frequent words.**"
   ]
  },
  {
   "cell_type": "code",
   "execution_count": 7,
   "id": "a896565f",
   "metadata": {},
   "outputs": [
    {
     "data": {
      "image/png": "[encoded data removed]",
      "text/plain": [
       "<Figure size 640x480 with 1 Axes>"
      ]
     },
     "metadata": {},
     "output_type": "display_data"
    }
   ],
   "source": [
    "# Provide your answers here\n",
    "\n",
    "# Remove stop words\n",
    "stop_words = set(stopwords.words('english'))\n",
    "hotel_data_without_stopwords = hotel_data['Review'].apply(lambda x: ' '.join([word for word in x.split() if word not in stop_words]))\n",
    "\n",
    "# Get the word frequency\n",
    "word_counts = hotel_data_without_stopwords.str.split(expand=True).stack().value_counts().head(10)\n",
    "\n",
    "# Create a bar plot\n",
    "plt.bar(word_counts.index, word_counts.values)\n",
    "plt.xlabel('Words')\n",
    "plt.ylabel('Frequency')\n",
    "plt.title('Top 10 Most Frequent Words (Stop Words Removed)')\n",
    "plt.xticks(rotation='vertical')\n",
    "plt.show()\n"
   ]
  },
  {
   "cell_type": "markdown",
   "id": "8d71540d",
   "metadata": {},
   "source": [
    "**OBSERVATION** <BR>\n",
    "The above bar graph does not include stop words. For example, words like 'just', 'not' have been removed here.\n"
   ]
  },
  {
   "cell_type": "markdown",
   "id": "c66c6232",
   "metadata": {},
   "source": [
    "## Task 2: Data Preprocessing\n",
    "\n",
    "- **Use the provided \"clean_data\" function to remove unnecessary symbols and clean the dataset.**\n",
    "\n"
   ]
  },
  {
   "cell_type": "code",
   "execution_count": 8,
   "id": "18e84d29",
   "metadata": {},
   "outputs": [],
   "source": [
    "import re\n",
    "\n",
    "def clean_data(text):\n",
    "    \n",
    "    # Format words and remove unwanted characters\n",
    "    text = re.sub(r'https?:\\/\\/.*[\\r\\n]*', '', text, flags=re.MULTILINE)\n",
    "    text = re.sub(r'\\<a href', ' ', text)\n",
    "    text = re.sub(r'&amp;', '', text) \n",
    "    text = re.sub(r'[_\"\\-;%()|+&=*%.,!?:#$@\\[\\]/]', ' ', text)\n",
    "    text = re.sub(r'<br />', ' ', text)\n",
    "    text = re.sub(r'br', ' ', text)\n",
    "    text = re.sub(r'\\'', ' ', text)\n",
    "    \n",
    "\n",
    "    return text"
   ]
  },
  {
   "cell_type": "code",
   "execution_count": 9,
   "id": "5311b4cd",
   "metadata": {},
   "outputs": [],
   "source": [
    "# Provide your answers here\n",
    "\n",
    "# Once you have written code to remove hashtags and @mentions, apply the function to clean the tweets.\n",
    "hotel_data[\"Review\"] = hotel_data[\"Review\"].apply(clean_data)"
   ]
  },
  {
   "cell_type": "markdown",
   "id": "5334f4bc",
   "metadata": {},
   "source": [
    "- **Split the clean dataset into separate train and test sets. For this, use the \"Review\" field as the feature vector (X) and the \"Rating\" field as the label vector (Y).**"
   ]
  },
  {
   "cell_type": "code",
   "execution_count": 10,
   "id": "e2b74af8",
   "metadata": {},
   "outputs": [],
   "source": [
    "from sklearn.model_selection import train_test_split"
   ]
  },
  {
   "cell_type": "code",
   "execution_count": 11,
   "id": "f21e0206",
   "metadata": {},
   "outputs": [],
   "source": [
    "# Provide your answers here\n",
    "\n",
    "# define random state to make random processes reprodible\n",
    "random_state = np.random.RandomState(0)\n",
    "\n",
    "# define X (features) and Y (target)\n",
    "X = hotel_data[\"Review\"]\n",
    "y = hotel_data[\"Rating\"] #1,2,3,4,5\n",
    "\n",
    "# split the data into train-test split where 30% of data will be used as test set\n",
    "# splitting data for: 70% data for training and rest for testing\n",
    "X_train, X_test, y_train, y_test = train_test_split(X, y, test_size=0.3, shuffle=True, random_state=random_state)\n"
   ]
  },
  {
   "cell_type": "markdown",
   "id": "f5cb5069",
   "metadata": {},
   "source": [
    "- **Create an additional binary label by assigning ‘1’ – positive for the product ratings 4 and 5; and \"–1\" for product ratings 1, 2 and 3. Store it in y_train_binary and y_test_binary.**\n",
    "\n",
    "*Tip: you can use a function copy.deepcopy for creating a copy of label variables* "
   ]
  },
  {
   "cell_type": "code",
   "execution_count": 12,
   "id": "ea7fe3f2",
   "metadata": {},
   "outputs": [],
   "source": [
    "import copy"
   ]
  },
  {
   "cell_type": "code",
   "execution_count": 13,
   "id": "a1c3f189",
   "metadata": {},
   "outputs": [],
   "source": [
    "# Provide your answers here\n",
    "\n",
    "# Create a deep copy of y_train and y_test\n",
    "y_train_binary = copy.deepcopy(y_train)\n",
    "y_test_binary = copy.deepcopy(y_test)\n",
    "\n",
    "# Assign 1 for ratings 4 and 5\n",
    "y_train_binary[(y_train == 4) | (y_train == 5)] = 1\n",
    "y_test_binary[(y_test == 4) | (y_test == 5)] = 1\n",
    "\n",
    "# Assign -1 for ratings 1, 2, and 3\n",
    "y_train_binary[(y_train == 1) | (y_train == 2) | (y_train == 3)] = -1\n",
    "y_test_binary[(y_test == 1) | (y_test == 2) | (y_test == 3)] = -1"
   ]
  },
  {
   "cell_type": "code",
   "execution_count": 14,
   "id": "42bcbe93",
   "metadata": {},
   "outputs": [
    {
     "data": {
      "text/plain": [
       "3822    -1\n",
       "9452    -1\n",
       "12622    1\n",
       "6716     1\n",
       "7562    -1\n",
       "        ..\n",
       "10452   -1\n",
       "2575     1\n",
       "852      1\n",
       "4855     1\n",
       "12643    1\n",
       "Name: Rating, Length: 6148, dtype: int64"
      ]
     },
     "execution_count": 14,
     "metadata": {},
     "output_type": "execute_result"
    }
   ],
   "source": [
    "# check if the bianry labels (-1 and 1) are now added instead of the old ratings (1,2,3,4,5)\n",
    "y_train_binary\n",
    "y_test_binary"
   ]
  },
  {
   "cell_type": "markdown",
   "id": "41f40611",
   "metadata": {},
   "source": [
    "\n",
    "- **Transform the cleaned data into a numerical representation using Bag of Words (BoW) and remove any stop words. Save the BoW representation in the variables train_data_BOW and test_data_BOW.**"
   ]
  },
  {
   "cell_type": "code",
   "execution_count": 15,
   "id": "a452febc",
   "metadata": {},
   "outputs": [],
   "source": [
    "from sklearn.feature_extraction.text import CountVectorizer\n",
    "# from sklearn.linear_model import LogisticRegression\n",
    "# Provide your answers here\n",
    "\n",
    "# BOW -> seeing the frequency of each word i.e, how many times a word appears\n",
    "\n",
    "# define stop words \n",
    "stop_words = stopwords.words('english')\n",
    "\n",
    "# define CountVectorizer object\n",
    "# min_df=0.01 means words that belong to only 1% of the all Reviews will be excluded in the BOW\n",
    "vectorizer = CountVectorizer(stop_words=stopwords.words('english'), min_df=0.01)\n",
    "\n",
    "#  BOW for Training data\n",
    "train_data_BOW = vectorizer.fit_transform(X_train)\n",
    "\n",
    "#  BOW for Testing data\n",
    "test_data_BOW = vectorizer.transform(X_test)\n"
   ]
  },
  {
   "cell_type": "code",
   "execution_count": 16,
   "id": "6415cecd",
   "metadata": {},
   "outputs": [
    {
     "data": {
      "text/plain": [
       "<6148x1391 sparse matrix of type '<class 'numpy.int64'>'\n",
       "\twith 364536 stored elements in Compressed Sparse Row format>"
      ]
     },
     "execution_count": 16,
     "metadata": {},
     "output_type": "execute_result"
    }
   ],
   "source": [
    "# check if the BOW for both training and testing have been created\n",
    "train_data_BOW\n",
    "test_data_BOW\n"
   ]
  },
  {
   "cell_type": "code",
   "execution_count": 17,
   "id": "5848f404",
   "metadata": {},
   "outputs": [
    {
     "data": {
      "text/plain": [
       "(6148, 1391)"
      ]
     },
     "execution_count": 17,
     "metadata": {},
     "output_type": "execute_result"
    }
   ],
   "source": [
    "train_data_BOW.shape\n",
    "test_data_BOW.shape"
   ]
  },
  {
   "cell_type": "markdown",
   "id": "8090e881",
   "metadata": {},
   "source": [
    "- **Create another numerical representation of the text using Term Frequency-Inverse Document Frequency (TfIdf) and remove the stop words. Save the TfIdf representation in the variables train_data_tfidf and test_data_tfidf.**"
   ]
  },
  {
   "cell_type": "code",
   "execution_count": 18,
   "id": "f63802c3",
   "metadata": {},
   "outputs": [],
   "source": [
    "from sklearn.feature_extraction.text import TfidfVectorizer\n",
    "\n",
    "'''\n",
    "To calculate the TF-IDF representation of text, use the TfidfVectorizer class from the sklearn.feature_extraction.text library.\n",
    "This class converts a collection of raw documents into a matrix of TF-IDF features3.\n",
    "By removing common English stop words, it focuses on capturing the unique characteristics of each document.\n",
    "'''\n",
    "\n",
    "# Provide your answers here\n",
    "\n",
    "# Create TfidfVectorizer object\n",
    "vectorizer = TfidfVectorizer(stop_words='english')\n",
    "\n",
    "# Fit the vectorizer object to train data\n",
    "train_data_tfidf = vectorizer.fit_transform(X_train)\n",
    "\n",
    "# Transform test data using the fitted vectorizer\n",
    "test_data_tfidf = vectorizer.transform(X_test)\n"
   ]
  },
  {
   "cell_type": "markdown",
   "id": "c3441fac",
   "metadata": {},
   "source": [
    "## Task 3: Model Training\n",
    "\n",
    "Define 3 Logistic Regression models: *model1, model2* and *model3* and train the models as follows:\n",
    "- Train the first Logistic Regression model using the Bag of Words representation (train_data_BOW) to predict the hotel rating (Y).\n",
    "\n",
    "- Train the second Logistic Regression model using the TfIdf representation (train_data_tfidf) to predict the hotel rating (Y).\n",
    "\n",
    "- Train the third Logistic Regression model using the TfIdf representation (train_data_tfidf) to predict the binary sentiment label (Y_binary). \n",
    "\n",
    "- Make and store predictions on appropriate test sets (X_test_BOW for model1 and X_test_tfidf for model2 and model3)"
   ]
  },
  {
   "cell_type": "markdown",
   "id": "8b726b00",
   "metadata": {},
   "source": [
    "## MODEL 1 \n",
    "***Logistic Regression model trained using the Bag of Words representation (train_data_BOW) to predict the hotel rating (Y).***"
   ]
  },
  {
   "cell_type": "code",
   "execution_count": 19,
   "id": "f71f708d",
   "metadata": {},
   "outputs": [
    {
     "data": {
      "text/html": [
       "<style>#sk-container-id-1 {color: black;}#sk-container-id-1 pre{padding: 0;}#sk-container-id-1 div.sk-toggleable {background-color: white;}#sk-container-id-1 label.sk-toggleable__label {cursor: pointer;display: block;width: 100%;margin-bottom: 0;padding: 0.3em;box-sizing: border-box;text-align: center;}#sk-container-id-1 label.sk-toggleable__label-arrow:before {content: \"▸\";float: left;margin-right: 0.25em;color: #696969;}#sk-container-id-1 label.sk-toggleable__label-arrow:hover:before {color: black;}#sk-container-id-1 div.sk-estimator:hover label.sk-toggleable__label-arrow:before {color: black;}#sk-container-id-1 div.sk-toggleable__content {max-height: 0;max-width: 0;overflow: hidden;text-align: left;background-color: #f0f8ff;}#sk-container-id-1 div.sk-toggleable__content pre {margin: 0.2em;color: black;border-radius: 0.25em;background-color: #f0f8ff;}#sk-container-id-1 input.sk-toggleable__control:checked~div.sk-toggleable__content {max-height: 200px;max-width: 100%;overflow: auto;}#sk-container-id-1 input.sk-toggleable__control:checked~label.sk-toggleable__label-arrow:before {content: \"▾\";}#sk-container-id-1 div.sk-estimator input.sk-toggleable__control:checked~label.sk-toggleable__label {background-color: #d4ebff;}#sk-container-id-1 div.sk-label input.sk-toggleable__control:checked~label.sk-toggleable__label {background-color: #d4ebff;}#sk-container-id-1 input.sk-hidden--visually {border: 0;clip: rect(1px 1px 1px 1px);clip: rect(1px, 1px, 1px, 1px);height: 1px;margin: -1px;overflow: hidden;padding: 0;position: absolute;width: 1px;}#sk-container-id-1 div.sk-estimator {font-family: monospace;background-color: #f0f8ff;border: 1px dotted black;border-radius: 0.25em;box-sizing: border-box;margin-bottom: 0.5em;}#sk-container-id-1 div.sk-estimator:hover {background-color: #d4ebff;}#sk-container-id-1 div.sk-parallel-item::after {content: \"\";width: 100%;border-bottom: 1px solid gray;flex-grow: 1;}#sk-container-id-1 div.sk-label:hover label.sk-toggleable__label {background-color: #d4ebff;}#sk-container-id-1 div.sk-serial::before {content: \"\";position: absolute;border-left: 1px solid gray;box-sizing: border-box;top: 0;bottom: 0;left: 50%;z-index: 0;}#sk-container-id-1 div.sk-serial {display: flex;flex-direction: column;align-items: center;background-color: white;padding-right: 0.2em;padding-left: 0.2em;position: relative;}#sk-container-id-1 div.sk-item {position: relative;z-index: 1;}#sk-container-id-1 div.sk-parallel {display: flex;align-items: stretch;justify-content: center;background-color: white;position: relative;}#sk-container-id-1 div.sk-item::before, #sk-container-id-1 div.sk-parallel-item::before {content: \"\";position: absolute;border-left: 1px solid gray;box-sizing: border-box;top: 0;bottom: 0;left: 50%;z-index: -1;}#sk-container-id-1 div.sk-parallel-item {display: flex;flex-direction: column;z-index: 1;position: relative;background-color: white;}#sk-container-id-1 div.sk-parallel-item:first-child::after {align-self: flex-end;width: 50%;}#sk-container-id-1 div.sk-parallel-item:last-child::after {align-self: flex-start;width: 50%;}#sk-container-id-1 div.sk-parallel-item:only-child::after {width: 0;}#sk-container-id-1 div.sk-dashed-wrapped {border: 1px dashed gray;margin: 0 0.4em 0.5em 0.4em;box-sizing: border-box;padding-bottom: 0.4em;background-color: white;}#sk-container-id-1 div.sk-label label {font-family: monospace;font-weight: bold;display: inline-block;line-height: 1.2em;}#sk-container-id-1 div.sk-label-container {text-align: center;}#sk-container-id-1 div.sk-container {/* jupyter's `normalize.less` sets `[hidden] { display: none; }` but bootstrap.min.css set `[hidden] { display: none !important; }` so we also need the `!important` here to be able to override the default hidden behavior on the sphinx rendered scikit-learn.org. See: https://github.com/scikit-learn/scikit-learn/issues/21755 */display: inline-block !important;position: relative;}#sk-container-id-1 div.sk-text-repr-fallback {display: none;}</style><div id=\"sk-container-id-1\" class=\"sk-top-container\"><div class=\"sk-text-repr-fallback\"><pre>LogisticRegression(random_state=RandomState(MT19937) at 0x7FFF9D902E40)</pre><b>In a Jupyter environment, please rerun this cell to show the HTML representation or trust the notebook. <br />On GitHub, the HTML representation is unable to render, please try loading this page with nbviewer.org.</b></div><div class=\"sk-container\" hidden><div class=\"sk-item\"><div class=\"sk-estimator sk-toggleable\"><input class=\"sk-toggleable__control sk-hidden--visually\" id=\"sk-estimator-id-1\" type=\"checkbox\" checked><label for=\"sk-estimator-id-1\" class=\"sk-toggleable__label sk-toggleable__label-arrow\">LogisticRegression</label><div class=\"sk-toggleable__content\"><pre>LogisticRegression(random_state=RandomState(MT19937) at 0x7FFF9D902E40)</pre></div></div></div></div></div>"
      ],
      "text/plain": [
       "LogisticRegression(random_state=RandomState(MT19937) at 0x7FFF9D902E40)"
      ]
     },
     "execution_count": 19,
     "metadata": {},
     "output_type": "execute_result"
    }
   ],
   "source": [
    "# LOGISTIC REGRESSION : It is a popular algorithm for binary classification tasks,\n",
    "                        # where it predicts the probability of an input belonging to a certain class.\n",
    "\n",
    "# based on the BOW created above, see what is the nature of comments\n",
    "# E.g according to BOW, if a certain negative word, say 'bad' appears many times, then\n",
    "# Logistic Regreession would predict the nature of the comment to be negative\n",
    "\n",
    "from sklearn.linear_model import LogisticRegression\n",
    "\n",
    "# define logistic regression model object\n",
    "model1 = LogisticRegression(random_state=random_state)\n",
    "\n",
    "# Fit the model with the training data\n",
    "model1.fit(train_data_BOW, y_train)"
   ]
  },
  {
   "cell_type": "code",
   "execution_count": 20,
   "id": "d1a680b1",
   "metadata": {},
   "outputs": [
    {
     "data": {
      "text/plain": [
       "array([2, 1, 5, ..., 5, 4, 5])"
      ]
     },
     "execution_count": 20,
     "metadata": {},
     "output_type": "execute_result"
    }
   ],
   "source": [
    "# MAKE PREDICTION ON TEST DATA\n",
    "# predict using model1 object (the variable 'test_data_BOW' was created above while making BOW)\n",
    "y_test_model1_predictions = model1.predict(test_data_BOW)\n",
    "\n",
    "# view the predictions\n",
    "y_test_model1_predictions"
   ]
  },
  {
   "cell_type": "markdown",
   "id": "144ff64e",
   "metadata": {},
   "source": [
    "## MODEL 2\n",
    "***Logistic Regression modeltrained using the TfIdf representation (train_data_tfidf) to predict the hotel rating (Y).***\n"
   ]
  },
  {
   "cell_type": "code",
   "execution_count": 21,
   "id": "77b519dc",
   "metadata": {},
   "outputs": [
    {
     "data": {
      "text/html": [
       "<style>#sk-container-id-2 {color: black;}#sk-container-id-2 pre{padding: 0;}#sk-container-id-2 div.sk-toggleable {background-color: white;}#sk-container-id-2 label.sk-toggleable__label {cursor: pointer;display: block;width: 100%;margin-bottom: 0;padding: 0.3em;box-sizing: border-box;text-align: center;}#sk-container-id-2 label.sk-toggleable__label-arrow:before {content: \"▸\";float: left;margin-right: 0.25em;color: #696969;}#sk-container-id-2 label.sk-toggleable__label-arrow:hover:before {color: black;}#sk-container-id-2 div.sk-estimator:hover label.sk-toggleable__label-arrow:before {color: black;}#sk-container-id-2 div.sk-toggleable__content {max-height: 0;max-width: 0;overflow: hidden;text-align: left;background-color: #f0f8ff;}#sk-container-id-2 div.sk-toggleable__content pre {margin: 0.2em;color: black;border-radius: 0.25em;background-color: #f0f8ff;}#sk-container-id-2 input.sk-toggleable__control:checked~div.sk-toggleable__content {max-height: 200px;max-width: 100%;overflow: auto;}#sk-container-id-2 input.sk-toggleable__control:checked~label.sk-toggleable__label-arrow:before {content: \"▾\";}#sk-container-id-2 div.sk-estimator input.sk-toggleable__control:checked~label.sk-toggleable__label {background-color: #d4ebff;}#sk-container-id-2 div.sk-label input.sk-toggleable__control:checked~label.sk-toggleable__label {background-color: #d4ebff;}#sk-container-id-2 input.sk-hidden--visually {border: 0;clip: rect(1px 1px 1px 1px);clip: rect(1px, 1px, 1px, 1px);height: 1px;margin: -1px;overflow: hidden;padding: 0;position: absolute;width: 1px;}#sk-container-id-2 div.sk-estimator {font-family: monospace;background-color: #f0f8ff;border: 1px dotted black;border-radius: 0.25em;box-sizing: border-box;margin-bottom: 0.5em;}#sk-container-id-2 div.sk-estimator:hover {background-color: #d4ebff;}#sk-container-id-2 div.sk-parallel-item::after {content: \"\";width: 100%;border-bottom: 1px solid gray;flex-grow: 1;}#sk-container-id-2 div.sk-label:hover label.sk-toggleable__label {background-color: #d4ebff;}#sk-container-id-2 div.sk-serial::before {content: \"\";position: absolute;border-left: 1px solid gray;box-sizing: border-box;top: 0;bottom: 0;left: 50%;z-index: 0;}#sk-container-id-2 div.sk-serial {display: flex;flex-direction: column;align-items: center;background-color: white;padding-right: 0.2em;padding-left: 0.2em;position: relative;}#sk-container-id-2 div.sk-item {position: relative;z-index: 1;}#sk-container-id-2 div.sk-parallel {display: flex;align-items: stretch;justify-content: center;background-color: white;position: relative;}#sk-container-id-2 div.sk-item::before, #sk-container-id-2 div.sk-parallel-item::before {content: \"\";position: absolute;border-left: 1px solid gray;box-sizing: border-box;top: 0;bottom: 0;left: 50%;z-index: -1;}#sk-container-id-2 div.sk-parallel-item {display: flex;flex-direction: column;z-index: 1;position: relative;background-color: white;}#sk-container-id-2 div.sk-parallel-item:first-child::after {align-self: flex-end;width: 50%;}#sk-container-id-2 div.sk-parallel-item:last-child::after {align-self: flex-start;width: 50%;}#sk-container-id-2 div.sk-parallel-item:only-child::after {width: 0;}#sk-container-id-2 div.sk-dashed-wrapped {border: 1px dashed gray;margin: 0 0.4em 0.5em 0.4em;box-sizing: border-box;padding-bottom: 0.4em;background-color: white;}#sk-container-id-2 div.sk-label label {font-family: monospace;font-weight: bold;display: inline-block;line-height: 1.2em;}#sk-container-id-2 div.sk-label-container {text-align: center;}#sk-container-id-2 div.sk-container {/* jupyter's `normalize.less` sets `[hidden] { display: none; }` but bootstrap.min.css set `[hidden] { display: none !important; }` so we also need the `!important` here to be able to override the default hidden behavior on the sphinx rendered scikit-learn.org. See: https://github.com/scikit-learn/scikit-learn/issues/21755 */display: inline-block !important;position: relative;}#sk-container-id-2 div.sk-text-repr-fallback {display: none;}</style><div id=\"sk-container-id-2\" class=\"sk-top-container\"><div class=\"sk-text-repr-fallback\"><pre>LogisticRegression(random_state=RandomState(MT19937) at 0x7FFF9D902E40)</pre><b>In a Jupyter environment, please rerun this cell to show the HTML representation or trust the notebook. <br />On GitHub, the HTML representation is unable to render, please try loading this page with nbviewer.org.</b></div><div class=\"sk-container\" hidden><div class=\"sk-item\"><div class=\"sk-estimator sk-toggleable\"><input class=\"sk-toggleable__control sk-hidden--visually\" id=\"sk-estimator-id-2\" type=\"checkbox\" checked><label for=\"sk-estimator-id-2\" class=\"sk-toggleable__label sk-toggleable__label-arrow\">LogisticRegression</label><div class=\"sk-toggleable__content\"><pre>LogisticRegression(random_state=RandomState(MT19937) at 0x7FFF9D902E40)</pre></div></div></div></div></div>"
      ],
      "text/plain": [
       "LogisticRegression(random_state=RandomState(MT19937) at 0x7FFF9D902E40)"
      ]
     },
     "execution_count": 21,
     "metadata": {},
     "output_type": "execute_result"
    }
   ],
   "source": [
    "from sklearn.linear_model import LogisticRegression\n",
    "\n",
    "# define logistic regression model object\n",
    "model2 = LogisticRegression(random_state=random_state)\n",
    "\n",
    "# Fit the model with the training data\n",
    "model2.fit(train_data_tfidf, y_train)"
   ]
  },
  {
   "cell_type": "code",
   "execution_count": 22,
   "id": "a58aa74c",
   "metadata": {},
   "outputs": [
    {
     "data": {
      "text/plain": [
       "array([2, 4, 5, ..., 5, 5, 5])"
      ]
     },
     "execution_count": 22,
     "metadata": {},
     "output_type": "execute_result"
    }
   ],
   "source": [
    "# MAKE PREDICTION ON TEST DATA\n",
    "\n",
    "# predict using model2 object (the varibale 'test_data_tfidf' was created above while cerating TF-IDF representation of text)\n",
    "y_test_model2_predictions = model2.predict(test_data_tfidf)\n",
    "\n",
    "# view the predictions\n",
    "y_test_model2_predictions"
   ]
  },
  {
   "cell_type": "markdown",
   "id": "78108bf3",
   "metadata": {},
   "source": [
    "## MODEL 3\n",
    "***Logistic Regression model trained using the TfIdf representation (train_data_tfidf) to predict the binary sentiment label (Y_binary).***"
   ]
  },
  {
   "cell_type": "code",
   "execution_count": 23,
   "id": "2bb6d1a2",
   "metadata": {},
   "outputs": [
    {
     "data": {
      "text/html": [
       "<style>#sk-container-id-3 {color: black;}#sk-container-id-3 pre{padding: 0;}#sk-container-id-3 div.sk-toggleable {background-color: white;}#sk-container-id-3 label.sk-toggleable__label {cursor: pointer;display: block;width: 100%;margin-bottom: 0;padding: 0.3em;box-sizing: border-box;text-align: center;}#sk-container-id-3 label.sk-toggleable__label-arrow:before {content: \"▸\";float: left;margin-right: 0.25em;color: #696969;}#sk-container-id-3 label.sk-toggleable__label-arrow:hover:before {color: black;}#sk-container-id-3 div.sk-estimator:hover label.sk-toggleable__label-arrow:before {color: black;}#sk-container-id-3 div.sk-toggleable__content {max-height: 0;max-width: 0;overflow: hidden;text-align: left;background-color: #f0f8ff;}#sk-container-id-3 div.sk-toggleable__content pre {margin: 0.2em;color: black;border-radius: 0.25em;background-color: #f0f8ff;}#sk-container-id-3 input.sk-toggleable__control:checked~div.sk-toggleable__content {max-height: 200px;max-width: 100%;overflow: auto;}#sk-container-id-3 input.sk-toggleable__control:checked~label.sk-toggleable__label-arrow:before {content: \"▾\";}#sk-container-id-3 div.sk-estimator input.sk-toggleable__control:checked~label.sk-toggleable__label {background-color: #d4ebff;}#sk-container-id-3 div.sk-label input.sk-toggleable__control:checked~label.sk-toggleable__label {background-color: #d4ebff;}#sk-container-id-3 input.sk-hidden--visually {border: 0;clip: rect(1px 1px 1px 1px);clip: rect(1px, 1px, 1px, 1px);height: 1px;margin: -1px;overflow: hidden;padding: 0;position: absolute;width: 1px;}#sk-container-id-3 div.sk-estimator {font-family: monospace;background-color: #f0f8ff;border: 1px dotted black;border-radius: 0.25em;box-sizing: border-box;margin-bottom: 0.5em;}#sk-container-id-3 div.sk-estimator:hover {background-color: #d4ebff;}#sk-container-id-3 div.sk-parallel-item::after {content: \"\";width: 100%;border-bottom: 1px solid gray;flex-grow: 1;}#sk-container-id-3 div.sk-label:hover label.sk-toggleable__label {background-color: #d4ebff;}#sk-container-id-3 div.sk-serial::before {content: \"\";position: absolute;border-left: 1px solid gray;box-sizing: border-box;top: 0;bottom: 0;left: 50%;z-index: 0;}#sk-container-id-3 div.sk-serial {display: flex;flex-direction: column;align-items: center;background-color: white;padding-right: 0.2em;padding-left: 0.2em;position: relative;}#sk-container-id-3 div.sk-item {position: relative;z-index: 1;}#sk-container-id-3 div.sk-parallel {display: flex;align-items: stretch;justify-content: center;background-color: white;position: relative;}#sk-container-id-3 div.sk-item::before, #sk-container-id-3 div.sk-parallel-item::before {content: \"\";position: absolute;border-left: 1px solid gray;box-sizing: border-box;top: 0;bottom: 0;left: 50%;z-index: -1;}#sk-container-id-3 div.sk-parallel-item {display: flex;flex-direction: column;z-index: 1;position: relative;background-color: white;}#sk-container-id-3 div.sk-parallel-item:first-child::after {align-self: flex-end;width: 50%;}#sk-container-id-3 div.sk-parallel-item:last-child::after {align-self: flex-start;width: 50%;}#sk-container-id-3 div.sk-parallel-item:only-child::after {width: 0;}#sk-container-id-3 div.sk-dashed-wrapped {border: 1px dashed gray;margin: 0 0.4em 0.5em 0.4em;box-sizing: border-box;padding-bottom: 0.4em;background-color: white;}#sk-container-id-3 div.sk-label label {font-family: monospace;font-weight: bold;display: inline-block;line-height: 1.2em;}#sk-container-id-3 div.sk-label-container {text-align: center;}#sk-container-id-3 div.sk-container {/* jupyter's `normalize.less` sets `[hidden] { display: none; }` but bootstrap.min.css set `[hidden] { display: none !important; }` so we also need the `!important` here to be able to override the default hidden behavior on the sphinx rendered scikit-learn.org. See: https://github.com/scikit-learn/scikit-learn/issues/21755 */display: inline-block !important;position: relative;}#sk-container-id-3 div.sk-text-repr-fallback {display: none;}</style><div id=\"sk-container-id-3\" class=\"sk-top-container\"><div class=\"sk-text-repr-fallback\"><pre>LogisticRegression(random_state=RandomState(MT19937) at 0x7FFF9D902E40)</pre><b>In a Jupyter environment, please rerun this cell to show the HTML representation or trust the notebook. <br />On GitHub, the HTML representation is unable to render, please try loading this page with nbviewer.org.</b></div><div class=\"sk-container\" hidden><div class=\"sk-item\"><div class=\"sk-estimator sk-toggleable\"><input class=\"sk-toggleable__control sk-hidden--visually\" id=\"sk-estimator-id-3\" type=\"checkbox\" checked><label for=\"sk-estimator-id-3\" class=\"sk-toggleable__label sk-toggleable__label-arrow\">LogisticRegression</label><div class=\"sk-toggleable__content\"><pre>LogisticRegression(random_state=RandomState(MT19937) at 0x7FFF9D902E40)</pre></div></div></div></div></div>"
      ],
      "text/plain": [
       "LogisticRegression(random_state=RandomState(MT19937) at 0x7FFF9D902E40)"
      ]
     },
     "execution_count": 23,
     "metadata": {},
     "output_type": "execute_result"
    }
   ],
   "source": [
    "from sklearn.linear_model import LogisticRegression\n",
    "\n",
    "# define logistic regression model object\n",
    "model3 = LogisticRegression(random_state=random_state)\n",
    "\n",
    "# Fit the model with the training data\n",
    "model3.fit(train_data_tfidf, y_train_binary)"
   ]
  },
  {
   "cell_type": "code",
   "execution_count": 24,
   "id": "7449ee86",
   "metadata": {},
   "outputs": [
    {
     "data": {
      "text/plain": [
       "array([-1, -1,  1, ...,  1,  1,  1])"
      ]
     },
     "execution_count": 24,
     "metadata": {},
     "output_type": "execute_result"
    }
   ],
   "source": [
    "# MAKE PREDICTION ON TEST DATA\n",
    "\n",
    "# predict using model3 object\n",
    "y_test_model3_predictions = model3.predict(test_data_tfidf)\n",
    "\n",
    "# view the predictions\n",
    "y_test_model3_predictions"
   ]
  },
  {
   "cell_type": "markdown",
   "id": "9f37e686",
   "metadata": {},
   "source": [
    "\n",
    "## Task 4: Model Evaluation\n",
    "\n",
    "- **Compute and compare the test accuracy of Model 1 (Logistic Regression with BoW representation) and Model 2 (Logistic Regression with TfIdf representation). Based on your results, determine which embedding method yields higher performance in predicting the hotel ratings (Y).**"
   ]
  },
  {
   "cell_type": "markdown",
   "id": "8c1c8e1d",
   "metadata": {},
   "source": [
    "#### MODEL 1 test accuracy V/S MODEL 2 test accuracy"
   ]
  },
  {
   "cell_type": "code",
   "execution_count": 25,
   "id": "09217a19",
   "metadata": {},
   "outputs": [
    {
     "name": "stdout",
     "output_type": "stream",
     "text": [
      "Model 1 (Logistic Regression with BoW representation) test accuracy: 0.5655\n",
      "Model 2 (Logistic Regression with TfIdf representation) test accuracy: 0.6088\n"
     ]
    }
   ],
   "source": [
    "from sklearn.metrics import accuracy_score\n",
    "\n",
    "# Provide your answers here\n",
    "\n",
    "# To compute and compare the test accuracy of Model 1 (Logistic Regression with BoW representation)\n",
    "# and Model 2 (Logistic Regression with TfIdf representation), use the accuracy_score function from the sklearn.metrics module. \n",
    "\n",
    "# Compute the test accuracy of Model 1\n",
    "model1_accuracy = accuracy_score(y_test, y_test_model1_predictions)\n",
    "\n",
    "# Compute the test accuracy of Model 2\n",
    "model2_accuracy = accuracy_score(y_test, y_test_model2_predictions)\n",
    "\n",
    "print(f\"Model 1 (Logistic Regression with BoW representation) test accuracy: {model1_accuracy:.4f}\")\n",
    "print(f\"Model 2 (Logistic Regression with TfIdf representation) test accuracy: {model2_accuracy:.4f}\")\n"
   ]
  },
  {
   "cell_type": "markdown",
   "id": "a5b49e96",
   "metadata": {},
   "source": [
    "**OBSERVATION** <br>\n",
    "The test accuracy of Model 1 is 0.5655 and the test accuracy of Model 2 is 0.6088. <BR>\n",
    "Therefore, we can conclude that Model 2 (Logistic Regression with TfIdf representation) yields higher performance in predicting the hotel ratings (Y) than Model 1 (Logistic Regression with BoW representation)."
   ]
  },
  {
   "cell_type": "markdown",
   "id": "78c38179",
   "metadata": {},
   "source": [
    "- **Compute and compare the test accuracy of Model 2 and Model 3. Based on your results, analyze which task is easier: binary sentiment prediction or multi-class rating prediction.**"
   ]
  },
  {
   "cell_type": "markdown",
   "id": "9b6ea72f",
   "metadata": {},
   "source": [
    "#### MODEL 2 test accuracy V/S MODEL 3 test accuarcy"
   ]
  },
  {
   "cell_type": "code",
   "execution_count": 26,
   "id": "a383feec",
   "metadata": {},
   "outputs": [
    {
     "name": "stdout",
     "output_type": "stream",
     "text": [
      "Model 2 (Logistic Regression with TfIdf representation to predict the hotel rating (Y)) test accuracy : 0.6088\n",
      "Model 3 (Logistic Regression with TfIdf representation to predict the binary sentiment label(Y binary)) test accuracy: 0.8905\n"
     ]
    }
   ],
   "source": [
    "# Provide your answers here\n",
    "\n",
    "# To compute and compare the test accuracy of Model 2 and Model 3,\n",
    "# use the accuracy_score function from the sklearn.metrics module. \n",
    "\n",
    "# Compute the test accuracy of Model 2\n",
    "model2_accuracy = accuracy_score(y_test, y_test_model2_predictions)\n",
    "\n",
    "# Compute the test accuracy for Model 3\n",
    "model3_accuracy = accuracy_score(y_test_binary, y_test_model3_predictions)\n",
    "\n",
    "\n",
    "print(f\"Model 2 (Logistic Regression with TfIdf representation to predict the hotel rating (Y)) test accuracy : {model2_accuracy:.4f}\")\n",
    "print(f\"Model 3 (Logistic Regression with TfIdf representation to predict the binary sentiment label(Y binary)) test accuracy: {model3_accuracy:.4f}\")\n"
   ]
  },
  {
   "cell_type": "markdown",
   "id": "76449f52",
   "metadata": {},
   "source": [
    "**OBSERVATION** <br>\n",
    "The test accuracy of Model 2 is 0.6088 and the test accuracy of Model 3 is 0.8905. <BR>\n",
    "\n",
    "Thus, Model 3 has a higher test accuracy as compared to Model 2. <BR>\n",
    "\n",
    "Therefore, we can conclude that binary sentiment prediction is an easier task than multi-class rating prediction. <BR>\n",
    "\n",
    "Binary sentiment prediction is considered to be an easier task than multi-class rating prediction because it involves predicting only two classes (positive or negative) as opposed to multiple classes (1-5 stars)."
   ]
  },
  {
   "cell_type": "markdown",
   "id": "974df47c",
   "metadata": {},
   "source": [
    "\n",
    "\n",
    "- **For Model 2,  compute additional evaluaton measures, namely confusion matrix, precision and recall.** "
   ]
  },
  {
   "cell_type": "markdown",
   "id": "60c5a9bb",
   "metadata": {},
   "source": [
    "### CONFUSION MATRIX FOR MODEL 2"
   ]
  },
  {
   "cell_type": "code",
   "execution_count": 27,
   "id": "c064f3d6",
   "metadata": {},
   "outputs": [
    {
     "data": {
      "image/png": "[encoded data removed]",
      "text/plain": [
       "<Figure size 640x480 with 2 Axes>"
      ]
     },
     "metadata": {},
     "output_type": "display_data"
    }
   ],
   "source": [
    "from sklearn.metrics import classification_report\n",
    "from sklearn.metrics import ConfusionMatrixDisplay, confusion_matrix\n",
    "\n",
    "# Compute the confusion matrix\n",
    "cm = confusion_matrix(y_test, y_test_model2_predictions)\n",
    "\n",
    "display = ConfusionMatrixDisplay(confusion_matrix=cm, display_labels=model2.classes_)\n",
    "display.plot();\n"
   ]
  },
  {
   "cell_type": "markdown",
   "id": "01721934",
   "metadata": {},
   "source": [
    "**OBSERVATION** <br>\n",
    "The above shown confusion matrix shows the accuracy of the predictions made by Model 2. <BR>\n",
    "For example, (in top left corner), 85 samples were predicted to be label 1 but in reality, they were label 2."
   ]
  },
  {
   "cell_type": "markdown",
   "id": "c251194e",
   "metadata": {},
   "source": [
    "### PRECISION OF MODEL 2"
   ]
  },
  {
   "cell_type": "code",
   "execution_count": 28,
   "id": "17dd84a7",
   "metadata": {},
   "outputs": [
    {
     "name": "stdout",
     "output_type": "stream",
     "text": [
      "Precision of Model 2 = 0.588926864736754\n"
     ]
    }
   ],
   "source": [
    "from sklearn.metrics import f1_score\n",
    "from sklearn.metrics import confusion_matrix, precision_score, recall_score\n",
    "\n",
    "# Compute the confusion matrix\n",
    "cm = confusion_matrix(y_test, y_test_model2_predictions)\n",
    "\n",
    "# Compute precision and recall\n",
    "precision = precision_score(y_test, y_test_model2_predictions, average='weighted')\n",
    "\n",
    "print(\"Precision of Model 2 =\", precision)"
   ]
  },
  {
   "cell_type": "markdown",
   "id": "ac4a85fe",
   "metadata": {},
   "source": [
    "**OBSERVATION** <BR> \n",
    "    \n",
    "**Precision** is a measure of the accuracy of the model’s positive predictions. It is defined as the ratio of true positives (TP) to the sum of true positives and false positives (FP). In other words, precision is the proportion of positive predictions that are actually true. <BR>\n",
    "\n",
    "                                            Precision = TP/(TP+FP)\n",
    "    \n",
    "* Precision of Model 2 is 0.588926864736754. <BR>\n",
    "This means that out of all the positive predictions made by Model 2, only 58.89% were actually true."
   ]
  },
  {
   "cell_type": "markdown",
   "id": "874a9089",
   "metadata": {},
   "source": [
    "### RECALL OF MODEL 2"
   ]
  },
  {
   "cell_type": "code",
   "execution_count": 29,
   "id": "14b0f6ad",
   "metadata": {},
   "outputs": [
    {
     "name": "stdout",
     "output_type": "stream",
     "text": [
      "Recall of Model 2 = 0.6088158750813273\n"
     ]
    }
   ],
   "source": [
    "from sklearn.metrics import f1_score\n",
    "from sklearn.metrics import confusion_matrix, precision_score, recall_score\n",
    "\n",
    "# Compute the confusion matrix\n",
    "cm = confusion_matrix(y_test, y_test_model2_predictions)\n",
    "\n",
    "# compute recall\n",
    "recall = recall_score(y_test, y_test_model2_predictions, average='weighted')\n",
    "\n",
    "print(\"Recall of Model 2 =\", recall)\n"
   ]
  },
  {
   "cell_type": "markdown",
   "id": "9747bfe3",
   "metadata": {},
   "source": [
    "**OBSERVATION** <BR> <BR>\n",
    "**Recall** is a measure of the completeness of the model’s positive predictions. It is defined as the ratio of true positives (TP) to the sum of true positives and false negatives (FN). In other words, recall is the proportion of actual positives that are correctly identified by the mode.\n",
    "\n",
    "                                            Recall = TP/(TP+FN)  \n",
    "* Recall of Model 2 is  0.6088158750813273 <BR>\n",
    "This means that out of all the actual positive instances in our data, only 60.88% were correctly identified by Model 2."
   ]
  },
  {
   "cell_type": "markdown",
   "id": "39c0632f",
   "metadata": {},
   "source": [
    "## Task 5: Model Analysis\n",
    "\n"
   ]
  },
  {
   "cell_type": "markdown",
   "id": "c3dd31d7",
   "metadata": {},
   "source": [
    "- **Based on the confusion matrix obtained in the previous question (referring to Model 2, the Logistic Regression with TfIdf representation for rating prediction), identify and state the number of samples that were classified to have the rating of 5 (the highest rating), but in reality, they had an actual rating of 1 (the lowest rating).**"
   ]
  },
  {
   "cell_type": "code",
   "execution_count": 30,
   "id": "868e7424",
   "metadata": {},
   "outputs": [
    {
     "data": {
      "image/png": "[encoded data removed]",
      "text/plain": [
       "<Figure size 640x480 with 2 Axes>"
      ]
     },
     "metadata": {},
     "output_type": "display_data"
    }
   ],
   "source": [
    "# Provide your answer here\n",
    "\n",
    "# Computing the confusion matrix again\n",
    "from sklearn.metrics import classification_report\n",
    "from sklearn.metrics import ConfusionMatrixDisplay, confusion_matrix\n",
    "\n",
    "cm = confusion_matrix(y_test, y_test_model2_predictions)\n",
    "\n",
    "display = ConfusionMatrixDisplay(confusion_matrix=cm, display_labels=model2.classes_)\n",
    "display.plot();\n"
   ]
  },
  {
   "cell_type": "markdown",
   "id": "b58b7277",
   "metadata": {},
   "source": [
    "**ANSWER:**<br>\n",
    "Based on the confusion matrix, **27** samples were classified to have the rating of 5 (the highest rating), but in reality, they had an actual rating of 1 (the lowest rating)."
   ]
  },
  {
   "cell_type": "markdown",
   "id": "1c867478",
   "metadata": {},
   "source": [
    "- **Discuss the importance of considering alternative evaluation measures, such as precision and recall, instead of relying solely on accuracy. Based on this discussion, identify the most suitable evaluation metric for Model 2.**"
   ]
  },
  {
   "cell_type": "markdown",
   "id": "e9fa7b7f",
   "metadata": {},
   "source": [
    "**ANSWER** <BR>\n",
    "**Model evaluation metrics** are used to assess the performance of a machine learning model. **Accuracy** is one such metric that is commonly used to evaluate models. However, it is not always the most suitable metric for every problem. In some cases, it may be more appropriate to use **precision** and **recall** instead of accuracy.\n",
    "\n",
    "**Precision** measures the proportion of true positives among all positive predictions made by the model. It is calculated as follows:\n",
    "\n",
    "$$\\text{Precision} = \\frac{\\text{True Positives}}{\\text{True Positives + False Positives}}$$\n",
    "\n",
    "**Recall**, on the other hand, measures the proportion of true positives among all actual positive instances in the data. It is calculated as follows:\n",
    "\n",
    "$$\\text{Recall} = \\frac{\\text{True Positives}}{\\text{True Positives + False Negatives}}$$\n",
    "\n",
    "In some cases, it may be more important to optimize for precision or recall instead of accuracy. For example, in a spam detection system, it may be more important to minimize false positives (i.e., classify an email as spam when it is not) than false negatives (i.e., classify a spam email as not spam). In such cases, precision would be a more suitable metric than accuracy.\n",
    "\n",
    "For **Model 2**, which is a logistic regression model trained using the TfIdf representation to predict hotel ratings, it would be appropriate to consider alternative evaluation measures such as precision and recall in addition to accuracy. Since this is a multi-class classification problem, we can use the **macro-averaged F1 score** as an evaluation metric. The macro-averaged F1 score calculates the F1 score for each class separately and then takes the average across all classes. It is calculated as follows:\n",
    "\n",
    "$$\\text{Macro-averaged F1 score} = \\frac{1}{k}\\sum_{i=1}^{k}\\frac{2\\times\\text{Precision}_i\\times\\text{Recall}_i}{\\text{Precision}_i+\\text{Recall}_i}$$\n",
    "\n",
    "where $k$ is the number of classes.\n",
    "\n",
    "The macro-averaged F1 score is a suitable evaluation metric for Model 2 because it takes into account both precision and recall and provides an overall measure of performance across all classes.\n"
   ]
  },
  {
   "cell_type": "markdown",
   "id": "9a27d77c",
   "metadata": {},
   "source": [
    "\n",
    "\n"
   ]
  },
  {
   "cell_type": "markdown",
   "id": "ad234f27",
   "metadata": {},
   "source": [
    "\n",
    "- **For binary sentiment prediction (Model 3), visualize important words with their model coefficients.**\n",
    "\n",
    "*Tip: you can reuse the function plot_coefficients from prac. session.*"
   ]
  },
  {
   "cell_type": "code",
   "execution_count": 31,
   "id": "373c09a2",
   "metadata": {},
   "outputs": [],
   "source": [
    "# Provide your answers here\n",
    "\n",
    "def plot_coefficients(classifier, feature_names, top_features=10):\n",
    "    coef = classifier.coef_.ravel()\n",
    "    top_positive_coefficients = np.argsort(coef)[-top_features:]\n",
    "    top_negative_coefficients = np.argsort(coef)[:top_features]\n",
    "    top_coefficients = np.hstack([top_negative_coefficients, top_positive_coefficients])\n",
    "    # create plot\n",
    "    plt.figure(figsize=(15, 5))\n",
    "    colors = ['red' if c < 0 else 'blue' for c in coef[top_coefficients]]\n",
    "    plt.bar(np.arange(2 * top_features), coef[top_coefficients], color=colors)\n",
    "    feature_names = np.array(feature_names)\n",
    "    plt.xticks(np.arange(0, 2 * top_features), feature_names[top_coefficients], rotation=90, ha='right')\n",
    "    plt.xlabel(\"Important Words\")\n",
    "    plt.ylabel(\"Model Coefficient\")\n",
    "    plt.title(\"Important words with their model coefficient\")\n",
    "    plt.show()"
   ]
  },
  {
   "cell_type": "code",
   "execution_count": 32,
   "id": "143f1d20",
   "metadata": {},
   "outputs": [
    {
     "data": {
      "image/png": "[encoded data removed]",
      "text/plain": [
       "<Figure size 1500x500 with 1 Axes>"
      ]
     },
     "metadata": {},
     "output_type": "display_data"
    }
   ],
   "source": [
    "plot_coefficients(model3, vectorizer.get_feature_names_out())"
   ]
  },
  {
   "cell_type": "markdown",
   "id": "d06f8d69",
   "metadata": {},
   "source": [
    "**OBSERVATION** <BR>\n",
    "The plot shows 20 words which played important role in making predictions. The red bars show top 10 words with negative model coefficient and blue bars show top 10 words with positive model coefficient values."
   ]
  }
 ],
 "metadata": {
  "kernelspec": {
   "display_name": "Python 3 (ipykernel)",
   "language": "python",
   "name": "python3"
  },
  "language_info": {
   "codemirror_mode": {
    "name": "ipython",
    "version": 3
   },
   "file_extension": ".py",
   "mimetype": "text/x-python",
   "name": "python",
   "nbconvert_exporter": "python",
   "pygments_lexer": "ipython3",
   "version": "3.11.4"
  }
 },
 "nbformat": 4,
 "nbformat_minor": 5
}
